{
 "cells": [
  {
   "cell_type": "markdown",
   "metadata": {},
   "source": [
    "# Introduction/Business Problem"
   ]
  },
  {
   "cell_type": "markdown",
   "metadata": {},
   "source": [
    "People who are planning to moving to San Francisco are faced with many options when choosing a neighborhood. Different categories of people have different priorities for example, working married couples without children, working married couples with children, and retired people. Some examples of different priorities are the number of schools, parks, hospitals, the access to public transportation, and the price of rent.\n",
    "\n",
    "Potential qualities of a neighborhood that people could be interested in are:\n",
    "\n",
    "-the number of schools in the neighborhood\n",
    "\n",
    "-the number of parks in the neighborhood\n",
    "\n",
    "-the number of hospitals in the neighborhood\n",
    "\n",
    "-the number of restaurants in the neighborhood\n",
    "\n",
    "-the number of grocery stores in the neighborhood\n",
    "\n",
    "-the number of bars/clubs in the neighborhood\n",
    "\n",
    "-the number of retail stores in the neighborhood\n",
    "\n",
    "-the availability of public transit in the neighborhood\n",
    "\n",
    "-the crime rate in the neighborhood\n",
    "\n",
    "-the rent price in the neighborhood\n",
    "\n",
    "Future residents are able to prioritize particular amenities to help them find the neighborhood that best suits their needs using clustering methods. Using the Foursquare location data, we are able to determine how many parks, restaurants, grocery stores, bars/clubs, and retail stores are in a particular neighborhood. We are able to cross-reference that data with the average rent prices of each neighborhood in order to provide the future residents of San Francisco with the information they need to best choose the neighborhood that suits their needs and wants. "
   ]
  },
  {
   "cell_type": "markdown",
   "metadata": {},
   "source": [
    "# Data"
   ]
  },
  {
   "cell_type": "markdown",
   "metadata": {},
   "source": [
    "In order to obtain the coordinates of each neighborhood, we start by scraping the latitude and logitude values from the https://data.sfgov.org/Geographic-Locations-and-Boundaries/SF-Find-Neighborhoods/pty2-tcw4 website along with the neighborhood name.\n",
    "\n",
    "We then use the geopy library to get the latitude and longitude values of San Francisco which we will use at the end when we plot the folium map.\n",
    "\n",
    "To get the average rent prices of each neighborhood, we use the data from https://www.rentcafe.com/average-rent-market-trends/us/ca/san-francisco/.\n",
    "\n",
    "We then create a chloropleth map using the average rent prices of each San Francsico neighborhood.\n",
    "\n",
    "Then, using Foursquare, we find and sort the venues in each neighborhood into the categories we listed above (parks, restaurants, grocery stores, bars/clubs, and retail stores) and display the counts of each category by neighborhood.\n",
    "\n",
    "We are then able to use the folium library to plot the map of San Francisco with the counts superimposed on the map."
   ]
  },
  {
   "cell_type": "code",
   "execution_count": null,
   "metadata": {},
   "outputs": [],
   "source": []
  }
 ],
 "metadata": {
  "kernelspec": {
   "display_name": "Python 3",
   "language": "python",
   "name": "python3"
  },
  "language_info": {
   "codemirror_mode": {
    "name": "ipython",
    "version": 3
   },
   "file_extension": ".py",
   "mimetype": "text/x-python",
   "name": "python",
   "nbconvert_exporter": "python",
   "pygments_lexer": "ipython3",
   "version": "3.7.4"
  }
 },
 "nbformat": 4,
 "nbformat_minor": 2
}
